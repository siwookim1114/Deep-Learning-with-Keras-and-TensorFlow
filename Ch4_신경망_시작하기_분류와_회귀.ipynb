{
  "nbformat": 4,
  "nbformat_minor": 0,
  "metadata": {
    "colab": {
      "provenance": [],
      "toc_visible": true,
      "gpuType": "T4",
      "authorship_tag": "ABX9TyNWsjcEodfp2dSytYLgfSKu",
      "include_colab_link": true
    },
    "kernelspec": {
      "name": "python3",
      "display_name": "Python 3"
    },
    "language_info": {
      "name": "python"
    },
    "accelerator": "GPU"
  },
  "cells": [
    {
      "cell_type": "markdown",
      "metadata": {
        "id": "view-in-github",
        "colab_type": "text"
      },
      "source": [
        "<a href=\"https://colab.research.google.com/github/siwookim1114/Deep-Learning-with-Keras-and-TensorFlow/blob/main/Ch4_%EC%8B%A0%EA%B2%BD%EB%A7%9D_%EC%8B%9C%EC%9E%91%ED%95%98%EA%B8%B0_%EB%B6%84%EB%A5%98%EC%99%80_%ED%9A%8C%EA%B7%80.ipynb\" target=\"_parent\"><img src=\"https://colab.research.google.com/assets/colab-badge.svg\" alt=\"Open In Colab\"/></a>"
      ]
    },
    {
      "cell_type": "markdown",
      "source": [
        "# 영화 리뷰 분류 : 이진 분류 문제\n",
        "* 리뷰 텍스트를 기반으로 영화 기뷰를 긍정 (positive) / 부정 (negative)으로 분류하기"
      ],
      "metadata": {
        "id": "0GB7oigVst34"
      }
    },
    {
      "cell_type": "markdown",
      "source": [
        "## IMDB 데이터셋\n",
        "* 데이터는 전처리되어 잇어 각 리뷰 (단어 시퀀스)가 숫자 시퀀스로 변환되어 있음"
      ],
      "metadata": {
        "id": "Jb4GlEqgs7hL"
      }
    },
    {
      "cell_type": "markdown",
      "source": [
        "### 데이터셋 로드하기"
      ],
      "metadata": {
        "id": "6IQGxpN_uZMV"
      }
    },
    {
      "cell_type": "code",
      "source": [
        "from tensorflow.keras.datasets import imdb\n",
        "(train_data, train_labels), (test_data, test_labels) = imdb.load_data(num_words = 10000)  ## num_words = 10000 : 훈련 데이터에서 가장 자주 나타나는 단어 1만 개만 사용 (드물게 나타나는 단어는 무시)\n",
        "\n",
        "## train-data, train_labels => 리뷰를 담은 배열 (각 리뷰는 단어 인덱스의 리스트 (단어 시퀀스가 인코딩 됨))\n",
        "## train_labels와 test_labels: 0 (부정) 과 1 (긍정) 을 담은 리스트"
      ],
      "metadata": {
        "colab": {
          "base_uri": "https://localhost:8080/"
        },
        "id": "DRU4hYNIswFT",
        "outputId": "5758f554-d89e-4711-d37f-9b755f6b4e2a"
      },
      "execution_count": null,
      "outputs": [
        {
          "output_type": "stream",
          "name": "stdout",
          "text": [
            "Downloading data from https://storage.googleapis.com/tensorflow/tf-keras-datasets/imdb.npz\n",
            "\u001b[1m17464789/17464789\u001b[0m \u001b[32m━━━━━━━━━━━━━━━━━━━━\u001b[0m\u001b[37m\u001b[0m \u001b[1m0s\u001b[0m 0us/step\n"
          ]
        }
      ]
    },
    {
      "cell_type": "markdown",
      "source": [
        "### 리뷰를 다시 텍스트로 디코딩"
      ],
      "metadata": {
        "id": "4jDKA-fUyGOg"
      }
    },
    {
      "cell_type": "code",
      "source": [
        "word_index = imdb.get_word_index()  ## word_index()는 단어와 정수 인덱스를 매핑한 딕셔너리\n",
        "reverse_word_index = dict([(value, key) for (key, value) in word_index.items()])  ## 정수 인덱스와 단어를 매핑하도록 뒤집음\n",
        "decoded_review = \" \".join([reverse_word_index.get(i - 3, \"?\") for i in train_data[0]])  ## 리뷰를 디코딩함. 0, 1, 2 는 패딩, 문서 시작, 사전에 없음을 위해 예약, 그래서 인덱스에서 3을 뺌"
      ],
      "metadata": {
        "colab": {
          "base_uri": "https://localhost:8080/"
        },
        "id": "ewX7XWUOuU_S",
        "outputId": "0eb06ab2-6450-4fc8-90a3-f57720aa66a0"
      },
      "execution_count": null,
      "outputs": [
        {
          "output_type": "stream",
          "name": "stdout",
          "text": [
            "Downloading data from https://storage.googleapis.com/tensorflow/tf-keras-datasets/imdb_word_index.json\n",
            "\u001b[1m1641221/1641221\u001b[0m \u001b[32m━━━━━━━━━━━━━━━━━━━━\u001b[0m\u001b[37m\u001b[0m \u001b[1m0s\u001b[0m 0us/step\n"
          ]
        }
      ]
    },
    {
      "cell_type": "markdown",
      "source": [
        "## 데이터 준비\n",
        "* 신경망에 숫자 리스트를 바로 주입 X => 숫자 리스트는 모두 길이가 다르지만 신경망은 동일한 크기의 배치를 기대하기 때문\n",
        "    * 리스트를 텐서로 바꿔야됨\n",
        "        * 같은 길이가 되도록 리스트에 padding을 추가하고 (samples, max_length) 크기의 정수 텐서로 변환 -> 정수 텐서를 다룰 수 있는 층으로 신경망을 시작 (embedding)\n",
        "    * 리스트를 멀티 - 핫 인코딩 (multi-hot encoding) 하여 0과 1의 벡터로 변환.\n",
        "        * e.g) [8,5] 를 인덱스 8과 5의 위치는 1, 그 외는 모두 0 인 10000차원의 벡터로 각각 변환 -> 그 다음 부동 소수점 벡터 데이터를 다룰 수 있는 Dense층을 신경망의 첫번째 층으로 사용"
      ],
      "metadata": {
        "id": "jjKAgG5fwgjC"
      }
    },
    {
      "cell_type": "markdown",
      "source": [
        "### 정수 시퀀스를 멀티-핫 인코딩으로 인코딩"
      ],
      "metadata": {
        "id": "ZdUA0DBwyL4b"
      }
    },
    {
      "cell_type": "code",
      "source": [
        "## Multi-Hot Encoding 방법 사용\n",
        "import numpy as np\n",
        "\n",
        "def vectorize_sequences(sequences, dimension = 10000):\n",
        "  results = np.zeros((len(sequences), dimension))        ## 크기가 (len(sequences), dimension)이고 모든 원소가 0인 행렬을 만듬\n",
        "  for i , sequence in enumerate(sequences):\n",
        "    for j in sequence:\n",
        "      results[i, j] = 1.          ## results[i] 에서 특정 인덱스의 위치를 1로 만듬\n",
        "  return results\n",
        "\n",
        "x_train = vectorize_sequences(train_data)   ## 훈련 데이터를 벡터로 변환\n",
        "x_test = vectorize_sequences(test_data)     ## 테스트 데이터를 벡터로 변환"
      ],
      "metadata": {
        "id": "lmV4EUDywjL-"
      },
      "execution_count": null,
      "outputs": []
    },
    {
      "cell_type": "code",
      "source": [
        "## 데이터 확인\n",
        "x_train[0]\n",
        "\n",
        "## 레이블 변경\n",
        "y_train = np.asarray(train_labels).astype(\"float32\")\n",
        "y_test = np.asarray(test_labels).astype(\"float32\")"
      ],
      "metadata": {
        "id": "5q3tqpSPzISN"
      },
      "execution_count": null,
      "outputs": []
    },
    {
      "cell_type": "markdown",
      "source": [
        "## 신경망 모델 만들기\n",
        "* 입력 데이터: 벡터, 레이블: 스칼라 (1 또는 0) => 잘 작동하는 모델 : ReLU 활성화 함수를 사용한 Dense Layer 연결\n",
        "* Dense 층 쌓을때 중요한 구조상 결정:\n",
        "    * 얼마나 많은 층 사용?\n",
        "    * 각층에 얼마나 많은 유닛?\n",
        "\n",
        "* 당분간 다음 구조 사용:\n",
        "    * 2개의 중간층 + 각 16개의 유닛\n",
        "    * 리뷰의 감정을 스칼라 값의 예측으로 출력하는 output layer"
      ],
      "metadata": {
        "id": "Rtij263P3EaE"
      }
    },
    {
      "cell_type": "markdown",
      "source": [
        "### 모델 정의\n",
        "* Dense 층에 전달한 첫번째 파라미터 => 층의 unit 개수\n",
        "    * 층이 가진 표현 공간 (representation space)의 차원\n",
        "* relu 활성화 함수를 사용한 Dense층: output = relu(dot(W, input) + b)\n",
        "    * 16개의 유닛 : 가중치 행렬 W의 크기가 (input_dimension, 16) => 입력 데이터와 W를 dot product => 입력 데이터가 16차원으로 표현된 공간으로 투영됨\n",
        "    * 표현 공간의 차원은 \"모델이 내재된 표현을 학습할 때 가질 수 있는 자유도\"\n",
        "        * 유닛 늘리면 (표현 공간이 더 고차원) -> 모델이 더욱 복잡한 표현 학습 가능하지만 계산 비용 커지고 원하지 않은 패턴 학습 할 수 있음 (overfitting)\n",
        "* 중간층 활성화 함수 ReLu, 마지막 층은 확률을 출력하기 위해 sigmoid 활성화 함수\n",
        "    * 0과 1 사이의 점수 -> 어떤 샘플이 타깃 \"1\"일 가능성이 높다는 것은 그 리뷰가 긍정일 가능성이 높다는 것을 의미\n",
        "    * relu는 음수를 0으로 만드는 함수\n",
        "    * 시그모이드는 임의의 값을 [0, 1] 사이로 압축하므로 출력 값을 확률처럼 해석할 수 있음\n",
        "\n",
        "* ReLU와 같은 활성화 함수 (비선형성(non-linear) 함수)가 없다면 Dense 층은 그냥 선형적인 연산인 점곱과 덧셈 2개로 구성 : output = dot(W, input) + b\n",
        "    * 이 층은 입력에 대한 선형 변환 (아핀 변환)만 학습 가능\n",
        "    * 층의 가설 공간은 입력 데이터를 16차원의 공간으로 바꾸는 가능한 모든 선형 변환의 집합\n",
        "    * 이런 가설 공간은 매우 제약이 많으며 선형 층을 깊게 쌓아도 여전히 하나의 선형 연산이기 때문에 층을 여러 개로 구성하는 장점이 X => 층을 깊게 만드는 장점을 살리기 위해서는 비선형성 또는 활성화 함수를 추가해야됨\n",
        "    "
      ],
      "metadata": {
        "id": "EAFPiM4F4zyM"
      }
    },
    {
      "cell_type": "code",
      "source": [
        "from tensorflow import keras\n",
        "from tensorflow.keras import layers\n",
        "\n",
        "model = keras.Sequential([\n",
        "    layers.Dense(16, activation = \"relu\"),   ## First hidden layer\n",
        "    layers.Dense(16, activation = \"relu\"),   ## Second hidden layer\n",
        "    layers.Dense(1, activation = \"sigmoid\")  ## Output layer\n",
        "])"
      ],
      "metadata": {
        "id": "KAmgnwvJ41Yg"
      },
      "execution_count": null,
      "outputs": []
    },
    {
      "cell_type": "markdown",
      "source": [
        "### 모델 컴파일\n",
        "* 손실 함수와 옵티마이저 선택\n",
        "    * 손실함수\n",
        "        * 이진 분류 문제 (모델 출력이 확률 => 시그모이드를 output layer로 하나의 유닛과) => BinaryCrossEntropy 손실이 적합\n",
        "            * mean_squared_error도 사용 가능 하지만 확률을 출력하는 모델을 사용할때는 크로스엔트로피가 최선의 선택\n",
        "            * 크로스엔트로피는 확률 분포 간의 차이를 측정 (원본 분포와 예측 분포 사이를 측정)\n",
        "    * 옵티마이저\n",
        "        * rmsprop 사용 (이 옵티마이저는 일반적으로 거의 모든 문제에 기본 선택으로 좋음)"
      ],
      "metadata": {
        "id": "EkIwZQrfCH96"
      }
    },
    {
      "cell_type": "code",
      "source": [
        "# rmsprop 옵티마이저와 binary_cross_entropy 손실 함수로 모델 설정\n",
        "## 정확도를 사용하여 모니터링\n",
        "model.compile(optimizer = \"rmsprop\",\n",
        "              loss = \"binary_crossentropy\",\n",
        "              metrics = [\"accuracy\"])"
      ],
      "metadata": {
        "id": "LWNpC7upC3hj"
      },
      "execution_count": null,
      "outputs": []
    },
    {
      "cell_type": "markdown",
      "source": [
        "## 훈련 검증\n",
        "* 딥러닝 모델은 훈련 데이터에서 평가 절대 X\n",
        "    * 검증 세트를 사용하여 훈련 과정 중에 모델의 정확도를 모니터링 하는 것이 표준 관행\n",
        "  "
      ],
      "metadata": {
        "id": "61NtJPeQDWoC"
      }
    },
    {
      "cell_type": "markdown",
      "source": [
        "### 검증 세트 준비하기\n",
        "* 원본 훈련 데이터에서 1만개의 샘플을 떼어 검증 세트로 만듬"
      ],
      "metadata": {
        "id": "6JdgWOrFDjaw"
      }
    },
    {
      "cell_type": "code",
      "source": [
        "x_validation = x_train[:10000]   ## 인덱스 10000 바로 전까지 검증용\n",
        "partial_x_train = x_train[10000:]  ## 나머지는 전체 - 10000 개의 데이터는 훈련용\n",
        "\n",
        "y_validation = y_train[:10000]\n",
        "partial_y_train = y_train[10000:]"
      ],
      "metadata": {
        "id": "IXzGaDDmDXun"
      },
      "execution_count": null,
      "outputs": []
    },
    {
      "cell_type": "markdown",
      "source": [
        "### 모델 훈련하기\n",
        "* 512개의 샘플씩 미니 배치 만들어 20번의 epoch동안 모델 훈련 (훈련 데이터에 있는 모든 샘플에 대해 20번 바복)\n",
        "* 동시에 따로 떼어놓은 1만 개의 샘플에서 손실과 정확도를 측정 => validation_data 매개변수에 검증 데이터를 전달"
      ],
      "metadata": {
        "id": "AcHR-IjuEACR"
      }
    },
    {
      "cell_type": "code",
      "source": [
        "# 모델 훈련\n",
        "history = model.fit(partial_x_train,\n",
        "                    partial_y_train,\n",
        "                    epochs = 20,\n",
        "                    batch_size = 512,\n",
        "                    validation_data = (x_validation, y_validation))"
      ],
      "metadata": {
        "colab": {
          "base_uri": "https://localhost:8080/"
        },
        "id": "tCRIQva_EBQ_",
        "outputId": "8a82111d-9ce4-4987-a472-88c1f33a3de5"
      },
      "execution_count": null,
      "outputs": [
        {
          "output_type": "stream",
          "name": "stdout",
          "text": [
            "Epoch 1/20\n",
            "\u001b[1m30/30\u001b[0m \u001b[32m━━━━━━━━━━━━━━━━━━━━\u001b[0m\u001b[37m\u001b[0m \u001b[1m5s\u001b[0m 105ms/step - accuracy: 0.7110 - loss: 0.5956 - val_accuracy: 0.8524 - val_loss: 0.4110\n",
            "Epoch 2/20\n",
            "\u001b[1m30/30\u001b[0m \u001b[32m━━━━━━━━━━━━━━━━━━━━\u001b[0m\u001b[37m\u001b[0m \u001b[1m1s\u001b[0m 20ms/step - accuracy: 0.8886 - loss: 0.3486 - val_accuracy: 0.8695 - val_loss: 0.3382\n",
            "Epoch 3/20\n",
            "\u001b[1m30/30\u001b[0m \u001b[32m━━━━━━━━━━━━━━━━━━━━\u001b[0m\u001b[37m\u001b[0m \u001b[1m1s\u001b[0m 25ms/step - accuracy: 0.9206 - loss: 0.2540 - val_accuracy: 0.8893 - val_loss: 0.2868\n",
            "Epoch 4/20\n",
            "\u001b[1m30/30\u001b[0m \u001b[32m━━━━━━━━━━━━━━━━━━━━\u001b[0m\u001b[37m\u001b[0m \u001b[1m1s\u001b[0m 30ms/step - accuracy: 0.9415 - loss: 0.1956 - val_accuracy: 0.8889 - val_loss: 0.2767\n",
            "Epoch 5/20\n",
            "\u001b[1m30/30\u001b[0m \u001b[32m━━━━━━━━━━━━━━━━━━━━\u001b[0m\u001b[37m\u001b[0m \u001b[1m1s\u001b[0m 39ms/step - accuracy: 0.9489 - loss: 0.1636 - val_accuracy: 0.8872 - val_loss: 0.2766\n",
            "Epoch 6/20\n",
            "\u001b[1m30/30\u001b[0m \u001b[32m━━━━━━━━━━━━━━━━━━━━\u001b[0m\u001b[37m\u001b[0m \u001b[1m1s\u001b[0m 24ms/step - accuracy: 0.9579 - loss: 0.1379 - val_accuracy: 0.8811 - val_loss: 0.2965\n",
            "Epoch 7/20\n",
            "\u001b[1m30/30\u001b[0m \u001b[32m━━━━━━━━━━━━━━━━━━━━\u001b[0m\u001b[37m\u001b[0m \u001b[1m1s\u001b[0m 21ms/step - accuracy: 0.9648 - loss: 0.1193 - val_accuracy: 0.8845 - val_loss: 0.3044\n",
            "Epoch 8/20\n",
            "\u001b[1m30/30\u001b[0m \u001b[32m━━━━━━━━━━━━━━━━━━━━\u001b[0m\u001b[37m\u001b[0m \u001b[1m1s\u001b[0m 21ms/step - accuracy: 0.9680 - loss: 0.1060 - val_accuracy: 0.8831 - val_loss: 0.3159\n",
            "Epoch 9/20\n",
            "\u001b[1m30/30\u001b[0m \u001b[32m━━━━━━━━━━━━━━━━━━━━\u001b[0m\u001b[37m\u001b[0m \u001b[1m1s\u001b[0m 20ms/step - accuracy: 0.9799 - loss: 0.0849 - val_accuracy: 0.8758 - val_loss: 0.3308\n",
            "Epoch 10/20\n",
            "\u001b[1m30/30\u001b[0m \u001b[32m━━━━━━━━━━━━━━━━━━━━\u001b[0m\u001b[37m\u001b[0m \u001b[1m1s\u001b[0m 21ms/step - accuracy: 0.9813 - loss: 0.0743 - val_accuracy: 0.8816 - val_loss: 0.3382\n",
            "Epoch 11/20\n",
            "\u001b[1m30/30\u001b[0m \u001b[32m━━━━━━━━━━━━━━━━━━━━\u001b[0m\u001b[37m\u001b[0m \u001b[1m1s\u001b[0m 21ms/step - accuracy: 0.9888 - loss: 0.0588 - val_accuracy: 0.8673 - val_loss: 0.4155\n",
            "Epoch 12/20\n",
            "\u001b[1m30/30\u001b[0m \u001b[32m━━━━━━━━━━━━━━━━━━━━\u001b[0m\u001b[37m\u001b[0m \u001b[1m1s\u001b[0m 20ms/step - accuracy: 0.9884 - loss: 0.0556 - val_accuracy: 0.8709 - val_loss: 0.4086\n",
            "Epoch 13/20\n",
            "\u001b[1m30/30\u001b[0m \u001b[32m━━━━━━━━━━━━━━━━━━━━\u001b[0m\u001b[37m\u001b[0m \u001b[1m1s\u001b[0m 20ms/step - accuracy: 0.9912 - loss: 0.0481 - val_accuracy: 0.8762 - val_loss: 0.3839\n",
            "Epoch 14/20\n",
            "\u001b[1m30/30\u001b[0m \u001b[32m━━━━━━━━━━━━━━━━━━━━\u001b[0m\u001b[37m\u001b[0m \u001b[1m1s\u001b[0m 21ms/step - accuracy: 0.9951 - loss: 0.0351 - val_accuracy: 0.8758 - val_loss: 0.4053\n",
            "Epoch 15/20\n",
            "\u001b[1m30/30\u001b[0m \u001b[32m━━━━━━━━━━━━━━━━━━━━\u001b[0m\u001b[37m\u001b[0m \u001b[1m1s\u001b[0m 20ms/step - accuracy: 0.9962 - loss: 0.0295 - val_accuracy: 0.8736 - val_loss: 0.4236\n",
            "Epoch 16/20\n",
            "\u001b[1m30/30\u001b[0m \u001b[32m━━━━━━━━━━━━━━━━━━━━\u001b[0m\u001b[37m\u001b[0m \u001b[1m1s\u001b[0m 21ms/step - accuracy: 0.9973 - loss: 0.0248 - val_accuracy: 0.8733 - val_loss: 0.4555\n",
            "Epoch 17/20\n",
            "\u001b[1m30/30\u001b[0m \u001b[32m━━━━━━━━━━━━━━━━━━━━\u001b[0m\u001b[37m\u001b[0m \u001b[1m1s\u001b[0m 36ms/step - accuracy: 0.9988 - loss: 0.0199 - val_accuracy: 0.8734 - val_loss: 0.4720\n",
            "Epoch 18/20\n",
            "\u001b[1m30/30\u001b[0m \u001b[32m━━━━━━━━━━━━━━━━━━━━\u001b[0m\u001b[37m\u001b[0m \u001b[1m1s\u001b[0m 28ms/step - accuracy: 0.9988 - loss: 0.0163 - val_accuracy: 0.8712 - val_loss: 0.4853\n",
            "Epoch 19/20\n",
            "\u001b[1m30/30\u001b[0m \u001b[32m━━━━━━━━━━━━━━━━━━━━\u001b[0m\u001b[37m\u001b[0m \u001b[1m1s\u001b[0m 21ms/step - accuracy: 0.9989 - loss: 0.0128 - val_accuracy: 0.8708 - val_loss: 0.5326\n",
            "Epoch 20/20\n",
            "\u001b[1m30/30\u001b[0m \u001b[32m━━━━━━━━━━━━━━━━━━━━\u001b[0m\u001b[37m\u001b[0m \u001b[1m1s\u001b[0m 22ms/step - accuracy: 0.9988 - loss: 0.0120 - val_accuracy: 0.8698 - val_loss: 0.5270\n"
          ]
        }
      ]
    },
    {
      "cell_type": "markdown",
      "source": [
        "에포크가 끝날 때마다 1만 개의 검증 샘플 데이터에서 손실과 정확도를 계산함"
      ],
      "metadata": {
        "id": "PMpTUVekE9R8"
      }
    },
    {
      "cell_type": "code",
      "source": [
        "## model.fit() 메서ㅕ드는 History 객체를 반환 => 이 객체는 훈련하는 동안 발생한 모든 정보를 담고 있는 history 딕셔너리 속성을 가지고 있음\n",
        "history_dict = history.history\n",
        "history_dict.keys()"
      ],
      "metadata": {
        "colab": {
          "base_uri": "https://localhost:8080/"
        },
        "id": "8_HGKyG8FEss",
        "outputId": "ad74ac81-13b9-4e54-e887-c3099ee97608"
      },
      "execution_count": null,
      "outputs": [
        {
          "output_type": "execute_result",
          "data": {
            "text/plain": [
              "dict_keys(['accuracy', 'loss', 'val_accuracy', 'val_loss'])"
            ]
          },
          "metadata": {},
          "execution_count": 19
        }
      ]
    },
    {
      "cell_type": "markdown",
      "source": [
        "딕셔너리는 훈련과 검증하는 동안 모니터링 할 측정 지표당 하나씩 모두 4개의 항목을 담고 있음."
      ],
      "metadata": {
        "id": "uO3LG8gPFXuy"
      }
    },
    {
      "cell_type": "markdown",
      "source": [
        "### 훈련과 검증 손실 그리기\n",
        "* 훈련과 검증 데이터에 대한 손실 그리기"
      ],
      "metadata": {
        "id": "MGoAb3ReFljC"
      }
    },
    {
      "cell_type": "code",
      "source": [
        "import matplotlib.pyplot as plt\n",
        "\n",
        "# 변수 설정\n",
        "history_dict = history.history\n",
        "loss_values = history_dict[\"loss\"]\n",
        "validation_loss_values = history_dict[\"val_loss\"]\n",
        "epochs = range(1, len(loss_values) + 1)\n",
        "\n",
        "# 그리기\n",
        "plt.plot(epochs, loss_values, \"bo\", label = \"Training Loss\")    ## bo는 파란색 점\n",
        "plt.plot(epochs, validation_loss_values, \"b\", label = \"Validation Loss\")    ## b는 파란색 실선\n",
        "plt.title(\"Training and Validation Loss\")\n",
        "plt.xlabel(\"Epochs\")\n",
        "plt.ylabel(\"Loss\")\n",
        "plt.legend()\n",
        "plt.show()"
      ],
      "metadata": {
        "colab": {
          "base_uri": "https://localhost:8080/",
          "height": 472
        },
        "id": "MhiNATkvFnuB",
        "outputId": "4c2e7128-ec03-4102-8a4c-1e4329999edd"
      },
      "execution_count": null,
      "outputs": [
        {
          "output_type": "display_data",
          "data": {
            "text/plain": [
              "<Figure size 640x480 with 1 Axes>"
            ],
            "image/png": "[encoded data removed]"
          },
          "metadata": {}
        }
      ]
    },
    {
      "cell_type": "markdown",
      "source": [
        "* 훈련 손실이 에포크마다 감소함. 경사 하강법 최적화를 사용하면 반복마다 최소화되는 것이 손실이므로 기대했던 대로 나옴.\n",
        "* 검증 손실은 네번쨰 에코에서 그래프가 역전됨. 훈련 세트에서 잘 작동하는 모델이 처음 보는 데이터에서는 잘 작동하지 않아서 그럼 => 과대적합 (Overfitting)\n",
        "    * 네 번째 에포크 이후부터 훈련 데이터에 과도하게 최적화되어 훈련 데이터에 특화된 표현을 학습하므로 훈련 세트 이외의 데이터에는 일반화 되지 못함"
      ],
      "metadata": {
        "id": "UlRpPPQGGyzq"
      }
    },
    {
      "cell_type": "markdown",
      "source": [
        "### 훈련과 검증 정확도 그리기\n",
        "* 훈련과 검증 데이터에 대한 정확도 그리기"
      ],
      "metadata": {
        "id": "fKyyAY7SGVSQ"
      }
    },
    {
      "cell_type": "code",
      "source": [
        "plt.clf() ## 그리프 초기화\n",
        "\n",
        "# 변수 설정\n",
        "acc = history_dict[\"accuracy\"]\n",
        "val_acc = history_dict[\"val_accuracy\"]\n",
        "\n",
        "# 그리기\n",
        "plt.plot(epochs, acc, \"bo\", label = \"Training Accuracy\")\n",
        "plt.plot(epochs, val_acc, \"b\", label = \"Validation Accuracy\")\n",
        "plt.title(\"Training and Validation Accuracy\")\n",
        "plt.xlabel(\"Epochs\")\n",
        "plt.ylabel(\"Accuracy\")\n",
        "plt.legend()\n",
        "plt.show"
      ],
      "metadata": {
        "colab": {
          "base_uri": "https://localhost:8080/",
          "height": 642
        },
        "id": "1ePhsph3GXGT",
        "outputId": "f7a9ccf2-0e80-48f4-de7d-200821e487b9"
      },
      "execution_count": null,
      "outputs": [
        {
          "output_type": "execute_result",
          "data": {
            "text/plain": [
              "<function matplotlib.pyplot.show(close=None, block=None)>"
            ],
            "text/html": [
              "<div style=\"max-width:800px; border: 1px solid var(--colab-border-color);\"><style>\n",
              "      pre.function-repr-contents {\n",
              "        overflow-x: auto;\n",
              "        padding: 8px 12px;\n",
              "        max-height: 500px;\n",
              "      }\n",
              "\n",
              "      pre.function-repr-contents.function-repr-contents-collapsed {\n",
              "        cursor: pointer;\n",
              "        max-height: 100px;\n",
              "      }\n",
              "    </style>\n",
              "    <pre style=\"white-space: initial; background:\n",
              "         var(--colab-secondary-surface-color); padding: 8px 12px;\n",
              "         border-bottom: 1px solid var(--colab-border-color);\"><b>matplotlib.pyplot.show</b><br/>def show(*args, **kwargs)</pre><pre class=\"function-repr-contents function-repr-contents-collapsed\" style=\"\"><a class=\"filepath\" style=\"display:none\" href=\"#\">/usr/local/lib/python3.10/dist-packages/matplotlib/pyplot.py</a>Display all open figures.\n",
              "\n",
              "Parameters\n",
              "----------\n",
              "block : bool, optional\n",
              "    Whether to wait for all figures to be closed before returning.\n",
              "\n",
              "    If `True` block and run the GUI main loop until all figure windows\n",
              "    are closed.\n",
              "\n",
              "    If `False` ensure that all figure windows are displayed and return\n",
              "    immediately.  In this case, you are responsible for ensuring\n",
              "    that the event loop is running to have responsive figures.\n",
              "\n",
              "    Defaults to True in non-interactive mode and to False in interactive\n",
              "    mode (see `.pyplot.isinteractive`).\n",
              "\n",
              "See Also\n",
              "--------\n",
              "ion : Enable interactive mode, which shows / updates the figure after\n",
              "      every plotting command, so that calling ``show()`` is not necessary.\n",
              "ioff : Disable interactive mode.\n",
              "savefig : Save the figure to an image file instead of showing it on screen.\n",
              "\n",
              "Notes\n",
              "-----\n",
              "**Saving figures to file and showing a window at the same time**\n",
              "\n",
              "If you want an image file as well as a user interface window, use\n",
              "`.pyplot.savefig` before `.pyplot.show`. At the end of (a blocking)\n",
              "``show()`` the figure is closed and thus unregistered from pyplot. Calling\n",
              "`.pyplot.savefig` afterwards would save a new and thus empty figure. This\n",
              "limitation of command order does not apply if the show is non-blocking or\n",
              "if you keep a reference to the figure and use `.Figure.savefig`.\n",
              "\n",
              "**Auto-show in jupyter notebooks**\n",
              "\n",
              "The jupyter backends (activated via ``%matplotlib inline``,\n",
              "``%matplotlib notebook``, or ``%matplotlib widget``), call ``show()`` at\n",
              "the end of every cell by default. Thus, you usually don&#x27;t have to call it\n",
              "explicitly there.</pre>\n",
              "      <script>\n",
              "      if (google.colab.kernel.accessAllowed && google.colab.files && google.colab.files.view) {\n",
              "        for (const element of document.querySelectorAll('.filepath')) {\n",
              "          element.style.display = 'block'\n",
              "          element.onclick = (event) => {\n",
              "            event.preventDefault();\n",
              "            event.stopPropagation();\n",
              "            google.colab.files.view(element.textContent, 401);\n",
              "          };\n",
              "        }\n",
              "      }\n",
              "      for (const element of document.querySelectorAll('.function-repr-contents')) {\n",
              "        element.onclick = (event) => {\n",
              "          event.preventDefault();\n",
              "          event.stopPropagation();\n",
              "          element.classList.toggle('function-repr-contents-collapsed');\n",
              "        };\n",
              "      }\n",
              "      </script>\n",
              "      </div>"
            ]
          },
          "metadata": {},
          "execution_count": 21
        },
        {
          "output_type": "display_data",
          "data": {
            "text/plain": [
              "<Figure size 640x480 with 1 Axes>"
            ],
            "image/png": "[encoded data removed]"
          },
          "metadata": {}
        }
      ]
    },
    {
      "cell_type": "markdown",
      "source": [
        "* 훈련 정확도가 에포크마다 증가함\n",
        "* 그러나 검증 정확도는 4번째 에포크부터 크게 증가 안하고 왔다갔다 하면서 조금씩 떨어짐 => Overfitting 문제"
      ],
      "metadata": {
        "id": "zTfMdc5JG49-"
      }
    },
    {
      "cell_type": "markdown",
      "source": [
        "### 모델 처음부터 다시 훈련\n",
        "* 과대적합을 방지하기 위해 네 번째 에포크 이후에 훈련을 중지 할 수 있음\n",
        "* 처음부터 다시 새로운 신경망을 네 번의 에포크 동안만 훈련하고 테스트 데이터에서 평가"
      ],
      "metadata": {
        "id": "aHkFOdxAH_3A"
      }
    },
    {
      "cell_type": "code",
      "source": [
        "model = keras.Sequential([\n",
        "    layers.Dense(16, activation = \"relu\"),\n",
        "    layers.Dense(16, activation = \"relu\"),\n",
        "    layers.Dense(1, activation = \"sigmoid\")\n",
        "])\n",
        "\n",
        "model.compile(\n",
        "    optimizer = \"rmsprop\",\n",
        "    loss = \"binary_crossentropy\",\n",
        "    metrics = [\"accuracy\"]\n",
        ")\n",
        "\n",
        "model.fit(x_train, y_train, epochs = 4, batch_size = 512)\n",
        "results = model.evaluate(x_test, y_test)"
      ],
      "metadata": {
        "colab": {
          "base_uri": "https://localhost:8080/"
        },
        "id": "IqsnfRuTIBlO",
        "outputId": "c158ba1d-9c9d-4c3e-e3b0-88bd46f44cd2"
      },
      "execution_count": null,
      "outputs": [
        {
          "output_type": "stream",
          "name": "stdout",
          "text": [
            "Epoch 1/4\n",
            "\u001b[1m49/49\u001b[0m \u001b[32m━━━━━━━━━━━━━━━━━━━━\u001b[0m\u001b[37m\u001b[0m \u001b[1m3s\u001b[0m 38ms/step - accuracy: 0.7246 - loss: 0.5671\n",
            "Epoch 2/4\n",
            "\u001b[1m49/49\u001b[0m \u001b[32m━━━━━━━━━━━━━━━━━━━━\u001b[0m\u001b[37m\u001b[0m \u001b[1m1s\u001b[0m 12ms/step - accuracy: 0.9017 - loss: 0.2892\n",
            "Epoch 3/4\n",
            "\u001b[1m49/49\u001b[0m \u001b[32m━━━━━━━━━━━━━━━━━━━━\u001b[0m\u001b[37m\u001b[0m \u001b[1m1s\u001b[0m 12ms/step - accuracy: 0.9225 - loss: 0.2165\n",
            "Epoch 4/4\n",
            "\u001b[1m49/49\u001b[0m \u001b[32m━━━━━━━━━━━━━━━━━━━━\u001b[0m\u001b[37m\u001b[0m \u001b[1m1s\u001b[0m 12ms/step - accuracy: 0.9407 - loss: 0.1766\n",
            "\u001b[1m782/782\u001b[0m \u001b[32m━━━━━━━━━━━━━━━━━━━━\u001b[0m\u001b[37m\u001b[0m \u001b[1m2s\u001b[0m 2ms/step - accuracy: 0.8841 - loss: 0.2918\n"
          ]
        }
      ]
    },
    {
      "cell_type": "code",
      "source": [
        "## 최종 결과\n",
        "results"
      ],
      "metadata": {
        "colab": {
          "base_uri": "https://localhost:8080/"
        },
        "id": "NGVd283RIlJ6",
        "outputId": "7168dd46-183b-4560-d6c5-270ead33f508"
      },
      "execution_count": null,
      "outputs": [
        {
          "output_type": "execute_result",
          "data": {
            "text/plain": [
              "[0.2887725532054901, 0.8861200213432312]"
            ]
          },
          "metadata": {},
          "execution_count": 24
        }
      ]
    },
    {
      "cell_type": "markdown",
      "source": [
        "첫번째 숫자 0.29는 테스트 손실, 두번째 숫자 0.88은 테스트 정확도\n",
        "* 아주 단순한 방식으로 (역전되는 에포크까지만 훈련해서 끊어치기) 정확도 88% 달성\n",
        "* 최고 수준의 기법 사용하면 95%에 가까운 성능 얻기 가능"
      ],
      "metadata": {
        "id": "JkMiXUfAIvtM"
      }
    },
    {
      "cell_type": "markdown",
      "source": [
        "## 훈련된 모델로 새로운 데이터에 대해 예측\n",
        "* predict 메서드를 사용해서 어떤 리뷰가 긍정일 확률을 예측 가능\n",
        "\n",
        "\n"
      ],
      "metadata": {
        "id": "T9JG_HA_JELG"
      }
    },
    {
      "cell_type": "code",
      "source": [
        "model.predict(x_test)"
      ],
      "metadata": {
        "colab": {
          "base_uri": "https://localhost:8080/"
        },
        "id": "Z0AK8zqEJFrH",
        "outputId": "1e14dbc5-ecd7-4646-b646-7b360b3eae1c"
      },
      "execution_count": null,
      "outputs": [
        {
          "output_type": "stream",
          "name": "stdout",
          "text": [
            "\u001b[1m782/782\u001b[0m \u001b[32m━━━━━━━━━━━━━━━━━━━━\u001b[0m\u001b[37m\u001b[0m \u001b[1m1s\u001b[0m 2ms/step\n"
          ]
        },
        {
          "output_type": "execute_result",
          "data": {
            "text/plain": [
              "array([[0.26773265],\n",
              "       [0.9997872 ],\n",
              "       [0.8651388 ],\n",
              "       ...,\n",
              "       [0.13629146],\n",
              "       [0.11874983],\n",
              "       [0.663031  ]], dtype=float32)"
            ]
          },
          "metadata": {},
          "execution_count": 28
        }
      ]
    },
    {
      "cell_type": "markdown",
      "source": [
        "## 정리\n",
        "* 훈련 데이터에 대해 성능이 향상됨에 따라 신경망은 과대적합 (Overfitting)되기 시작하고 이번에 본 적 없는 데이터에서는 결과가 점점 나빠짐\n",
        "    * 항상 훈련 세트 이외의 데이터에서 성능을 모니터링 해야됨"
      ],
      "metadata": {
        "id": "_RIp5bHSLB9v"
      }
    }
  ]
}